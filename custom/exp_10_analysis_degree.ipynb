{
 "cells": [
  {
   "cell_type": "code",
   "execution_count": 2,
   "metadata": {},
   "outputs": [],
   "source": [
    "import pickle\n",
    "import matplotlib.pyplot as plt\n",
    "\n",
    "with open(f\"real_performance_full_50_generated_train_graphs_30_seeds.pickle\",'rb') as f:\n",
    "    data = pickle.load(f)"
   ]
  },
  {
   "cell_type": "code",
   "execution_count": 7,
   "metadata": {},
   "outputs": [
    {
     "data": {
      "text/plain": [
       "<Figure size 432x288 with 0 Axes>"
      ]
     },
     "metadata": {},
     "output_type": "display_data"
    }
   ],
   "source": [
    "graphs = ['1-wiki-Vote', '2-soc-Epinions', '3-email-EuAll']\n",
    "sizes = [10000,100000,300000]\n",
    "\n",
    "for idx,g in enumerate(graphs):\n",
    "    for gtype in ['LFR','SF']:\n",
    "        for epoch in range(10):\n",
    "            for seed in range(15):\n",
    "\n",
    "                graph = graphs[idx]\n",
    "                size = sizes[idx]\n",
    "\n",
    "                deg = data[graph][gtype][f'{size}_size']['1_copies']['pred'][f'{epoch}_epoch'][f'{seed}_seed']['deg']\n",
    "                pred = data[graph][gtype][f'{size}_size']['1_copies']['pred'][f'{epoch}_epoch'][f'{seed}_seed']['pred']\n",
    "                real = data[graph][gtype][f'{size}_size']['real']\n",
    "\n",
    "                plt.scatter(pred,deg)\n",
    "                plt.title(f\"Graph: {graph},{gtype} train, epoch: {epoch}, seed: {seed}\")\n",
    "                plt.xlabel('predicted bet')\n",
    "                plt.ylabel(\"degree\")\n",
    "                plt.savefig(f\"plots/degree_analysis/{gtype}/{graph}_{gtype}_train_{epoch}_epoch_{seed}_seed_1.png\")\n",
    "                plt.clf()\n",
    "\n",
    "                plt.scatter(real,deg)\n",
    "                plt.title(f\"Graph: {graph},{gtype} train, epoch: {epoch}, seed: {seed}\")\n",
    "                plt.xlabel('real bet')\n",
    "                plt.ylabel(\"degree\")\n",
    "                plt.savefig(f\"plots/degree_analysis/{gtype}/{graph}_{gtype}_train_{epoch}_epoch_{seed}_seed_2.png\")\n",
    "                plt.clf()\n",
    "\n",
    "                plt.scatter(pred,real)\n",
    "                plt.title(f\"Graph: {graph},{gtype} train, epoch: {epoch}, seed: {seed}\")\n",
    "                plt.xlabel('predicted bet')\n",
    "                plt.ylabel(\"real bet\")\n",
    "                plt.savefig(f\"plots/degree_analysis/{gtype}/{graph}_{gtype}_train_{epoch}_epoch_{seed}_seed_3.png\")\n",
    "                plt.clf()"
   ]
  }
 ],
 "metadata": {
  "kernelspec": {
   "display_name": "DeepLearning",
   "language": "python",
   "name": "python3"
  },
  "language_info": {
   "codemirror_mode": {
    "name": "ipython",
    "version": 3
   },
   "file_extension": ".py",
   "mimetype": "text/x-python",
   "name": "python",
   "nbconvert_exporter": "python",
   "pygments_lexer": "ipython3",
   "version": "3.7.13"
  },
  "orig_nbformat": 4,
  "vscode": {
   "interpreter": {
    "hash": "836981034a4078c9f81aa3bbf2605e6a2991c189feb0614c725b1b8d5991d7f7"
   }
  }
 },
 "nbformat": 4,
 "nbformat_minor": 2
}
