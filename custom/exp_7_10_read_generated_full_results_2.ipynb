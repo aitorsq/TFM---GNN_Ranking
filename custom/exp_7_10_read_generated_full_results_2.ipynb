{
 "cells": [
  {
   "cell_type": "code",
   "execution_count": 5,
   "metadata": {},
   "outputs": [],
   "source": [
    "import pickle\n",
    "import numpy as np\n",
    "import matplotlib.pyplot as plt"
   ]
  },
  {
   "cell_type": "code",
   "execution_count": 18,
   "metadata": {},
   "outputs": [
    {
     "name": "stdout",
     "output_type": "stream",
     "text": [
      "0\n",
      "LFR 1-wiki-Vote & 0.8373 \\pm 0.152 & 0.9202 \\pm 0.0046 & 0.917 \\pm 0.003 & 0.9157 \\pm 0.0018\n",
      "SF 1-wiki-Vote & 0.7688 \\pm 0.3429 & 0.9199 \\pm 0.0051 & 0.9199 \\pm 0.0046 & 0.92 \\pm 0.0042\n",
      "1\n",
      "LFR 1-wiki-Vote & 0.9182 \\pm 0.0075 & 0.9171 \\pm 0.003 & 0.9154 \\pm 0.0019 & 0.9149 \\pm 0.0017\n",
      "SF 1-wiki-Vote & 0.8454 \\pm 0.2143 & 0.9198 \\pm 0.0045 & 0.9195 \\pm 0.0048 & 0.9174 \\pm 0.0077\n",
      "2\n",
      "LFR 1-wiki-Vote & 0.9201 \\pm 0.0066 & 0.9155 \\pm 0.0025 & 0.915 \\pm 0.0016 & 0.9147 \\pm 0.0022\n",
      "SF 1-wiki-Vote & 0.893 \\pm 0.0748 & 0.92 \\pm 0.0038 & 0.9205 \\pm 0.0061 & 0.9152 \\pm 0.0096\n",
      "3\n",
      "LFR 1-wiki-Vote & 0.9205 \\pm 0.0063 & 0.9149 \\pm 0.0019 & 0.9143 \\pm 0.0018 & 0.9141 \\pm 0.0029\n",
      "SF 1-wiki-Vote & 0.917 \\pm 0.0079 & 0.9201 \\pm 0.004 & 0.9187 \\pm 0.0075 & 0.9164 \\pm 0.0098\n",
      "4\n",
      "LFR 1-wiki-Vote & 0.9206 \\pm 0.0059 & 0.9147 \\pm 0.0016 & 0.9141 \\pm 0.0018 & 0.9122 \\pm 0.0036\n",
      "SF 1-wiki-Vote & 0.9189 \\pm 0.0065 & 0.9199 \\pm 0.0049 & 0.9168 \\pm 0.0082 & 0.9185 \\pm 0.0083\n",
      "5\n",
      "LFR 1-wiki-Vote & 0.9207 \\pm 0.0055 & 0.9143 \\pm 0.0017 & 0.9139 \\pm 0.0022 & 0.9107 \\pm 0.0051\n",
      "SF 1-wiki-Vote & 0.9192 \\pm 0.0059 & 0.92 \\pm 0.0051 & 0.9181 \\pm 0.0065 & 0.9202 \\pm 0.0056\n",
      "6\n",
      "LFR 1-wiki-Vote & 0.9208 \\pm 0.0053 & 0.9139 \\pm 0.0017 & 0.9128 \\pm 0.0027 & 0.9093 \\pm 0.0067\n",
      "SF 1-wiki-Vote & 0.9195 \\pm 0.0055 & 0.9193 \\pm 0.0059 & 0.9192 \\pm 0.0051 & 0.9201 \\pm 0.006\n",
      "7\n",
      "LFR 1-wiki-Vote & 0.9207 \\pm 0.005 & 0.9134 \\pm 0.002 & 0.912 \\pm 0.0029 & 0.908 \\pm 0.0087\n",
      "SF 1-wiki-Vote & 0.9197 \\pm 0.0052 & 0.918 \\pm 0.0066 & 0.9199 \\pm 0.0052 & 0.9197 \\pm 0.0075\n",
      "8\n",
      "LFR 1-wiki-Vote & 0.9205 \\pm 0.0047 & 0.9131 \\pm 0.0019 & 0.9114 \\pm 0.0036 & 0.9074 \\pm 0.0107\n",
      "SF 1-wiki-Vote & 0.9197 \\pm 0.0051 & 0.9172 \\pm 0.0064 & 0.9215 \\pm 0.0039 & 0.9218 \\pm 0.0057\n",
      "9\n",
      "LFR 1-wiki-Vote & 0.9202 \\pm 0.0046 & 0.9127 \\pm 0.002 & 0.9112 \\pm 0.0037 & 0.9067 \\pm 0.0118\n",
      "SF 1-wiki-Vote & 0.9198 \\pm 0.0049 & 0.9164 \\pm 0.0072 & 0.9216 \\pm 0.0032 & 0.9225 \\pm 0.0044\n"
     ]
    }
   ],
   "source": [
    "realgraph = '1-wiki-Vote'\n",
    "size = 10000\n",
    "epoch = 4\n",
    "\n",
    "for epoch in range(10):\n",
    "    print(epoch)\n",
    "    \n",
    "    for graphtype in ['LFR','SF']:\n",
    "\n",
    "        with open(f\"{graphtype}_real_performance_full_{realgraph}.pickle\",'rb') as f:\n",
    "            data = pickle.load(f)\n",
    "\n",
    "        line = graphtype+' '+realgraph\n",
    "        for copies in [1,10,20,40]:\n",
    "            aux = []\n",
    "            for seed in range(10):\n",
    "                aux.append(data[graphtype][f'{size}_size'][f'{copies}_copies']['pred'][f'{epoch}_epoch'][f'{seed}_seed']['kt'])\n",
    "            line += f' & {round(np.mean(np.array(aux)),4)} \\pm {round(np.std(np.array(aux)),4)}'\n",
    "        print(line)"
   ]
  },
  {
   "cell_type": "code",
   "execution_count": 9,
   "metadata": {},
   "outputs": [
    {
     "name": "stdout",
     "output_type": "stream",
     "text": [
      "Epoch: 1\n"
     ]
    },
    {
     "ename": "KeyError",
     "evalue": "'1_epoch'",
     "output_type": "error",
     "traceback": [
      "\u001b[0;31m---------------------------------------------------------------------------\u001b[0m",
      "\u001b[0;31mKeyError\u001b[0m                                  Traceback (most recent call last)",
      "\u001b[0;32m/var/folders/4d/f5lz4rj56ws3v2hlc19c60t80000gn/T/ipykernel_92422/2379603052.py\u001b[0m in \u001b[0;36m<module>\u001b[0;34m\u001b[0m\n\u001b[1;32m     13\u001b[0m             \u001b[0maux\u001b[0m \u001b[0;34m=\u001b[0m \u001b[0;34m[\u001b[0m\u001b[0;34m]\u001b[0m\u001b[0;34m\u001b[0m\u001b[0;34m\u001b[0m\u001b[0m\n\u001b[1;32m     14\u001b[0m             \u001b[0;32mfor\u001b[0m \u001b[0mseed\u001b[0m \u001b[0;32min\u001b[0m \u001b[0mrange\u001b[0m\u001b[0;34m(\u001b[0m\u001b[0;36m10\u001b[0m\u001b[0;34m)\u001b[0m\u001b[0;34m:\u001b[0m\u001b[0;34m\u001b[0m\u001b[0;34m\u001b[0m\u001b[0m\n\u001b[0;32m---> 15\u001b[0;31m                 \u001b[0maux\u001b[0m\u001b[0;34m.\u001b[0m\u001b[0mappend\u001b[0m\u001b[0;34m(\u001b[0m\u001b[0mdata\u001b[0m\u001b[0;34m[\u001b[0m\u001b[0mgraphtype\u001b[0m\u001b[0;34m]\u001b[0m\u001b[0;34m[\u001b[0m\u001b[0;34mf'{size}_size'\u001b[0m\u001b[0;34m]\u001b[0m\u001b[0;34m[\u001b[0m\u001b[0;34mf'{copies}_copies'\u001b[0m\u001b[0;34m]\u001b[0m\u001b[0;34m[\u001b[0m\u001b[0;34m'pred'\u001b[0m\u001b[0;34m]\u001b[0m\u001b[0;34m[\u001b[0m\u001b[0;34mf'{epoch}_epoch'\u001b[0m\u001b[0;34m]\u001b[0m\u001b[0;34m[\u001b[0m\u001b[0;34mf'{seed}_seed'\u001b[0m\u001b[0;34m]\u001b[0m\u001b[0;34m[\u001b[0m\u001b[0;34m'kt'\u001b[0m\u001b[0;34m]\u001b[0m\u001b[0;34m)\u001b[0m\u001b[0;34m\u001b[0m\u001b[0;34m\u001b[0m\u001b[0m\n\u001b[0m\u001b[1;32m     16\u001b[0m             \u001b[0mline\u001b[0m \u001b[0;34m+=\u001b[0m \u001b[0;34mf' & {round(np.mean(np.array(aux)),4)} \\pm {round(np.std(np.array(aux)),4)}'\u001b[0m\u001b[0;34m\u001b[0m\u001b[0;34m\u001b[0m\u001b[0m\n\u001b[1;32m     17\u001b[0m         \u001b[0mprint\u001b[0m\u001b[0;34m(\u001b[0m\u001b[0mline\u001b[0m\u001b[0;34m)\u001b[0m\u001b[0;34m\u001b[0m\u001b[0;34m\u001b[0m\u001b[0m\n",
      "\u001b[0;31mKeyError\u001b[0m: '1_epoch'"
     ]
    }
   ],
   "source": [
    "realgraph = '2-soc-Epinions'\n",
    "size = 100000\n",
    "epoch = 4\n",
    "\n",
    "for graphtype in ['LFR','SF']:\n",
    "\n",
    "    with open(f\"{graphtype}_real_performance_full_{realgraph}_5_epochs.pickle\",'rb') as f:\n",
    "        data = pickle.load(f)\n",
    "\n",
    "    line = graphtype+' '+realgraph\n",
    "    for copies in [1,10,20,40]:\n",
    "        aux = []\n",
    "        for seed in range(10):\n",
    "            aux.append(data[graphtype][f'{size}_size'][f'{copies}_copies']['pred'][f'{epoch}_epoch'][f'{seed}_seed']['kt'])\n",
    "        line += f' & {round(np.mean(np.array(aux)),4)} \\pm {round(np.std(np.array(aux)),4)}'\n",
    "    print(line)"
   ]
  },
  {
   "cell_type": "code",
   "execution_count": null,
   "metadata": {},
   "outputs": [],
   "source": []
  }
 ],
 "metadata": {
  "kernelspec": {
   "display_name": "DeepLearning",
   "language": "python",
   "name": "python3"
  },
  "language_info": {
   "codemirror_mode": {
    "name": "ipython",
    "version": 3
   },
   "file_extension": ".py",
   "mimetype": "text/x-python",
   "name": "python",
   "nbconvert_exporter": "python",
   "pygments_lexer": "ipython3",
   "version": "3.7.13"
  },
  "orig_nbformat": 4,
  "vscode": {
   "interpreter": {
    "hash": "836981034a4078c9f81aa3bbf2605e6a2991c189feb0614c725b1b8d5991d7f7"
   }
  }
 },
 "nbformat": 4,
 "nbformat_minor": 2
}
