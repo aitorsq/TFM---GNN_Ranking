{
 "cells": [
  {
   "cell_type": "code",
   "execution_count": 4,
   "metadata": {},
   "outputs": [],
   "source": [
    "from utils import *\n",
    "import pickle"
   ]
  },
  {
   "cell_type": "code",
   "execution_count": 9,
   "metadata": {},
   "outputs": [],
   "source": [
    "file = \"./graphs/SF_5_graphs_10000_nodes.pickle\"\n",
    "\n",
    "with open(file,\"rb\") as fopen:\n",
    "    data = pickle.load(fopen)\n",
    "\n",
    "list_final = []\n",
    "\n",
    "for j in range(len(data)):\n",
    "\n",
    "    graph = data[j][0]\n",
    "    g_nkit = nx2nkit(graph)\n",
    "    bet_dict = data[j][1]\n",
    "    deg_dict = cal_exact_degree(g_nkit)\n",
    "    list_final.append([graph,bet_dict,deg_dict])\n",
    "\n",
    "with open(f\"{file[:-7]}_deg.pickle\",\"wb\") as fopen:\n",
    "    pickle.dump(list_final,fopen)"
   ]
  },
  {
   "cell_type": "code",
   "execution_count": null,
   "metadata": {},
   "outputs": [],
   "source": []
  }
 ],
 "metadata": {
  "kernelspec": {
   "display_name": "DeepLearning",
   "language": "python",
   "name": "python3"
  },
  "language_info": {
   "codemirror_mode": {
    "name": "ipython",
    "version": 3
   },
   "file_extension": ".py",
   "mimetype": "text/x-python",
   "name": "python",
   "nbconvert_exporter": "python",
   "pygments_lexer": "ipython3",
   "version": "3.7.13"
  },
  "orig_nbformat": 4,
  "vscode": {
   "interpreter": {
    "hash": "836981034a4078c9f81aa3bbf2605e6a2991c189feb0614c725b1b8d5991d7f7"
   }
  }
 },
 "nbformat": 4,
 "nbformat_minor": 2
}
