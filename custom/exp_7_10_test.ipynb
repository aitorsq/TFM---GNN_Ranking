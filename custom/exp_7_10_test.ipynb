{
 "cells": [
  {
   "cell_type": "code",
   "execution_count": 15,
   "metadata": {},
   "outputs": [
    {
     "data": {
      "image/png": "[encoded data removed]",
      "text/plain": [
       "<Figure size 432x288 with 1 Axes>"
      ]
     },
     "metadata": {
      "needs_background": "light"
     },
     "output_type": "display_data"
    },
    {
     "data": {
      "text/plain": [
       "<Figure size 432x288 with 0 Axes>"
      ]
     },
     "metadata": {},
     "output_type": "display_data"
    }
   ],
   "source": [
    "import pickle\n",
    "import matplotlib.pyplot as plt\n",
    "import numpy as np\n",
    "\n",
    "graphtype = 'LFR'\n",
    "realgraph = '1-wiki-Vote'\n",
    "size = 10000\n",
    "\n",
    "with open(f\"{graphtype}_real_performance_full_{realgraph}.pickle\",'rb') as f:\n",
    "    data = pickle.load(f)\n",
    "\n",
    "data = data['LFR']\n",
    "true = data[f\"{size}_size\"]['real']\n",
    "\n",
    "plotting_data = {}\n",
    "\n",
    "for c in [40]:# [1,10,20,40]:\n",
    "    \n",
    "    plotting_data[c] = {'xs':[], 'ys':[],'err':[]}\n",
    "\n",
    "    for epoch in range(15):\n",
    "\n",
    "        plotting_data[c]['xs'].append(epoch)\n",
    "        \n",
    "        aux = []\n",
    "        \n",
    "        for seed in range(15): #range(15):\n",
    "\n",
    "            # {'pred':r['pred'],'kt':r[\"kt\"]} -> schema\n",
    "            pred = data[f\"{size}_size\"][f\"{c}_copies\"]['pred'][f'{epoch}_epoch'][f\"{seed}_seed\"]\n",
    "            aux.append(pred['kt'])\n",
    "            \n",
    "        plotting_data[c]['ys'].append(round(np.mean(np.array(aux)),4))\n",
    "        plotting_data[c]['err'].append(round(np.std(np.array(aux)),4))\n",
    "\n",
    "\n",
    "for c in plotting_data:\n",
    "    \n",
    "    xs = [j+1 for j in plotting_data[c]['xs']]\n",
    "    ys = plotting_data[c]['ys']\n",
    "    err = plotting_data[c]['err']\n",
    "    plt.errorbar(xs[:],ys[:],err[:],c='b')\n",
    "    plt.scatter(xs[:],ys[:],c='b')\n",
    "    plt.plot(xs,ys,c='b',label=f'LFR, copies: {c}')\n",
    "\n",
    "graphtype = 'SF'\n",
    "realgraph = '1-wiki-Vote'\n",
    "size = 10000\n",
    "\n",
    "with open(f\"{graphtype}_real_performance_full_{realgraph}.pickle\",'rb') as f:\n",
    "    data = pickle.load(f)\n",
    "\n",
    "data = data['SF']\n",
    "true = data[f\"{size}_size\"]['real']\n",
    "\n",
    "plotting_data = {}\n",
    "\n",
    "for c in [40]:# [1,10,20,40]:\n",
    "    \n",
    "    plotting_data[c] = {'xs':[], 'ys':[],'err': []}\n",
    "\n",
    "    for epoch in range(15):\n",
    "\n",
    "        plotting_data[c]['xs'].append(epoch)\n",
    "        \n",
    "        aux = []\n",
    "        \n",
    "        for seed in range(15): #range(15):\n",
    "\n",
    "            # {'pred':r['pred'],'kt':r[\"kt\"]} -> schema\n",
    "            pred = data[f\"{size}_size\"][f\"{c}_copies\"]['pred'][f'{epoch}_epoch'][f\"{seed}_seed\"]\n",
    "            aux.append(pred['kt'])\n",
    "            \n",
    "        plotting_data[c]['ys'].append(round(np.mean(np.array(aux)),4))\n",
    "        plotting_data[c]['err'].append(round(np.std(np.array(aux)),4))\n",
    "\n",
    "for c in plotting_data:\n",
    "    xs = [j+1 for j in plotting_data[c]['xs']]\n",
    "    ys = plotting_data[c]['ys']\n",
    "    err = plotting_data[c]['err']\n",
    "    plt.errorbar(xs[:],ys[:],err[:],c='darkred')\n",
    "    plt.scatter(xs[:],ys[:],c='darkred')\n",
    "    plt.plot(xs,ys,c='darkred',label=f'SF, copies: {c}')\n",
    "\n",
    "\n",
    "plt.title(f\"{realgraph} LFR vs SF trained graphs\")\n",
    "plt.xlabel(\"Number of training epochs\")\n",
    "plt.ylabel(\"KT Score\")\n",
    "\n",
    "plt.xticks(range(1,16),xs)\n",
    "plt.legend()\n",
    "plt.show()\n",
    "plt.clf()"
   ]
  },
  {
   "cell_type": "code",
   "execution_count": null,
   "metadata": {},
   "outputs": [],
   "source": []
  }
 ],
 "metadata": {
  "kernelspec": {
   "display_name": "Python 3",
   "language": "python",
   "name": "python3"
  },
  "language_info": {
   "codemirror_mode": {
    "name": "ipython",
    "version": 3
   },
   "file_extension": ".py",
   "mimetype": "text/x-python",
   "name": "python",
   "nbconvert_exporter": "python",
   "pygments_lexer": "ipython3",
   "version": "3.10.5"
  },
  "orig_nbformat": 4,
  "vscode": {
   "interpreter": {
    "hash": "aee8b7b246df8f9039afb4144a1f6fd8d2ca17a180786b69acc140d282b71a49"
   }
  }
 },
 "nbformat": 4,
 "nbformat_minor": 2
}
