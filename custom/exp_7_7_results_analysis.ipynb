{
 "cells": [
  {
   "cell_type": "code",
   "execution_count": 4,
   "metadata": {},
   "outputs": [],
   "source": [
    "import pickle\n",
    "import numpy as np"
   ]
  },
  {
   "cell_type": "code",
   "execution_count": 5,
   "metadata": {},
   "outputs": [
    {
     "name": "stdout",
     "output_type": "stream",
     "text": [
      "Graph: 1-wiki-Vote_10000_size.pickle training: LFR Copies: 1 data: 10\n",
      "0.8373 0.152\n",
      "[0.9202295892029265, 0.9141042086487794, 0.917544704833872, 0.9264019668420934, 0.7038676280619675, 0.4260005040929919, 0.8298957041111498, 0.9220244459427007, 0.9092896809211147, 0.9039617030041163]\n",
      "Graph: 1-wiki-Vote_10000_size.pickle training: LFR Copies: 10 data: 10\n",
      "0.9202 0.0046\n",
      "[0.9228207608216121, 0.9280838715044963, 0.9168545230912897, 0.922401304802318, 0.9201869541228037, 0.9213762336515101, 0.9149156822694668, 0.9225235816492708, 0.9222635498734721, 0.9107530632091587]\n",
      "Graph: 1-wiki-Vote_10000_size.pickle training: LFR Copies: 20 data: 10\n",
      "0.917 0.003\n",
      "[0.9172874491676999, 0.9200793110987312, 0.9153883266065379, 0.9204061800463395, 0.9147378250375354, 0.917136505601409, 0.9132187216546774, 0.920520014303169, 0.9193694299791946, 0.9119104016052321]\n",
      "Graph: 1-wiki-Vote_10000_size.pickle training: LFR Copies: 40 data: 10\n",
      "0.9157 0.0018\n",
      "[0.9143546721557716, 0.915549720787729, 0.916063593106569, 0.9192796190872146, 0.915292784628309, 0.9161520614660073, 0.913116144184679, 0.9184596001835703, 0.91458388847762, 0.9145194433730119]\n",
      "Graph: 2-soc-Epinions_100000_size.pickle training: LFR Copies: 1 data: 10\n",
      "0.5679 0.5921\n",
      "[0.8989137486555179, 0.8966175229817244, 0.8863231049929658, 0.9029729569611182, 0.9003766174217546, -0.26640110059256034, 0.6118626226510518, 0.8361574870632646, 0.889841514083886, -0.8779854126058259]\n",
      "Graph: 2-soc-Epinions_100000_size.pickle training: LFR Copies: 10 data: 10\n",
      "0.8987 0.0019\n",
      "[0.8990657636813292, 0.8959616145777636, 0.9009553408441578, 0.9007334145005872, 0.8974857225977575, 0.8976826429758502, 0.9020129826552771, 0.8962181036240904, 0.898257574345963, 0.8983127188311579]\n",
      "Graph: 2-soc-Epinions_100000_size.pickle training: LFR Copies: 20 data: 10\n",
      "0.8958 0.0012\n",
      "[0.8964095362545362, 0.8944979558689994, 0.8961506227674602, 0.8962849229223401, 0.8952776969457167, 0.8958169910566423, 0.8983687413785206, 0.8943377823920361, 0.896300992863262, 0.8943908120267139]\n",
      "Graph: 2-soc-Epinions_100000_size.pickle training: LFR Copies: 40 data: 10\n",
      "0.8947 0.0009\n",
      "[0.8945423898433571, 0.8945786697246234, 0.8961913298927442, 0.8941720190685463, 0.8946715700613203, 0.8936234684344526, 0.895628358384755, 0.8950932670953128, 0.8952209958814781, 0.8930649064749905]\n",
      "Graph: 3-email-EuAll_300000_size.pickle training: LFR Copies: 1 data: 10\n",
      "0.7038 0.4062\n",
      "[0.9746225736805088, 0.8586176598278875, 0.9682651272575316, 0.9634362946431656, 0.9671031860198497, 0.9893489749755496, 0.15546953275251896, 0.8289535278019715, 0.5958895340353902, -0.2637873907982181]\n",
      "Graph: 3-email-EuAll_300000_size.pickle training: LFR Copies: 10 data: 10\n",
      "0.9954 0.0002\n",
      "[0.9951053542898237, 0.9955265495745935, 0.9955432759175488, 0.995297109175294, 0.9956897248676535, 0.9954366249832401, 0.9948605726603065, 0.9952239567459301, 0.9953828181166513, 0.9955156630441695]\n",
      "Graph: 3-email-EuAll_300000_size.pickle training: LFR Copies: 20 data: 10\n",
      "0.9961 0.0\n",
      "[0.9961052443265481, 0.9960437416780666, 0.9960901578211422, 0.9960370650662437, 0.9960845278139131, 0.9960634194259511, 0.9959932916528, 0.9960292601629913, 0.9961082294952331, 0.9961021207977554]\n",
      "Graph: 3-email-EuAll_300000_size.pickle training: LFR Copies: 40 data: 10\n",
      "0.9962 0.0\n",
      "[0.996203570373478, 0.9962142483071241, 0.9961914898349855, 0.996217524967805, 0.9961978122504344, 0.9962074396666232, 0.9961450595230055, 0.9962259767628534, 0.99623237815809, 0.9962163237276683]\n",
      "Graph: 4-web-Google_900000_size.pickle training: LFR Copies: 1 data: 10\n",
      "0.7432 0.0795\n",
      "[0.7835770324216482, 0.7797410786926295, 0.6744011367560216, 0.787533561984267, 0.7802965760058764, 0.8030418225331, 0.7532957843625647, 0.5282704493090595, 0.7895750761837182, 0.7524751144645168]\n",
      "Graph: 4-web-Google_900000_size.pickle training: LFR Copies: 10 data: 10\n",
      "0.8094 0.0011\n",
      "[0.8095629654644374, 0.8118050072143492, 0.8088066543865206, 0.8105948403259469, 0.8087862854415254, 0.808338396902071, 0.8081959920104219, 0.8095703965304831, 0.8103701743373954, 0.8083715042388169]\n",
      "Graph: 4-web-Google_900000_size.pickle training: LFR Copies: 20 data: 10\n",
      "0.8142 0.0011\n",
      "[0.8140552191798096, 0.8155494558240696, 0.8151285207497201, 0.8139475824412166, 0.8116616504635257, 0.8144976248715584, 0.814303032060136, 0.8129917973136538, 0.8156183809888512, 0.8144386131404641]\n",
      "Graph: 4-web-Google_900000_size.pickle training: LFR Copies: 40 data: 10\n",
      "0.8172 0.0006\n",
      "[0.8163121164160492, 0.8177189614983202, 0.8185086465988052, 0.816698758563278, 0.8169879386140885, 0.8176139810815488, 0.8165442910611267, 0.8167182649934188, 0.81754315616636, 0.8174565086559114]\n"
     ]
    }
   ],
   "source": [
    "for g in ['LFR']:\n",
    "    \n",
    "    with open(f\"{g}_real_performance.pickle\",'rb') as f:\n",
    "        data = pickle.load(f)\n",
    "\n",
    "    for net in data:\n",
    "        \n",
    "        d = {1:[],10:[],20:[],40:[]}\n",
    "\n",
    "        for p in data[net]['pred']:\n",
    "            d[p['copies']].append(p['train']['kt'])\n",
    "        \n",
    "        for c in d.keys():\n",
    "            if len(d[c]) != 10:\n",
    "                continue\n",
    "            print(f\"Graph: {net} training: {g} Copies: {c} data: {len(d[c])}\")\n",
    "            print(round(np.mean(np.array(d[c])),4),round(np.std(np.array(d[c])),4))\n",
    "            print(d[c])"
   ]
  },
  {
   "cell_type": "code",
   "execution_count": 3,
   "metadata": {},
   "outputs": [
    {
     "name": "stdout",
     "output_type": "stream",
     "text": [
      "Graph: 1-wiki-Vote_10000_size.pickle training: SF Copies: 1 data: 10\n",
      "0.7688 0.3429\n",
      "Graph: 1-wiki-Vote_10000_size.pickle training: SF Copies: 10 data: 10\n",
      "0.9199 0.0051\n",
      "Graph: 1-wiki-Vote_10000_size.pickle training: SF Copies: 20 data: 10\n",
      "0.9199 0.0046\n",
      "Graph: 1-wiki-Vote_10000_size.pickle training: SF Copies: 40 data: 10\n",
      "0.92 0.0042\n",
      "Graph: 2-soc-Epinions_100000_size.pickle training: SF Copies: 1 data: 10\n",
      "0.5198 0.6069\n",
      "Graph: 2-soc-Epinions_100000_size.pickle training: SF Copies: 10 data: 10\n",
      "0.8995 0.0019\n",
      "Graph: 2-soc-Epinions_100000_size.pickle training: SF Copies: 20 data: 10\n",
      "0.8985 0.0018\n",
      "Graph: 2-soc-Epinions_100000_size.pickle training: SF Copies: 40 data: 10\n",
      "0.8948 0.0023\n",
      "Graph: 3-email-EuAll_300000_size.pickle training: SF Copies: 1 data: 10\n",
      "0.7004 0.4462\n",
      "Graph: 3-email-EuAll_300000_size.pickle training: SF Copies: 10 data: 10\n",
      "0.9945 0.0004\n",
      "Graph: 3-email-EuAll_300000_size.pickle training: SF Copies: 20 data: 10\n",
      "0.995 0.0003\n",
      "Graph: 3-email-EuAll_300000_size.pickle training: SF Copies: 40 data: 10\n",
      "0.9959 0.0001\n",
      "Graph: 4-web-Google_900000_size.pickle training: SF Copies: 1 data: 10\n",
      "0.715 0.1079\n",
      "Graph: 4-web-Google_900000_size.pickle training: SF Copies: 10 data: 10\n",
      "0.8069 0.0023\n",
      "Graph: 4-web-Google_900000_size.pickle training: SF Copies: 20 data: 10\n",
      "0.8074 0.0021\n",
      "Graph: 4-web-Google_900000_size.pickle training: SF Copies: 40 data: 10\n",
      "0.8079 0.0035\n"
     ]
    }
   ],
   "source": [
    "for g in ['SF']:\n",
    "    \n",
    "    with open(f\"{g}_real_performance.pickle\",'rb') as f:\n",
    "        data = pickle.load(f)\n",
    "\n",
    "    for net in data:\n",
    "        \n",
    "        d = {1:[],10:[],20:[],40:[]}\n",
    "\n",
    "        for p in data[net]['pred']:\n",
    "            d[p['copies']].append(p['train']['kt'])\n",
    "        \n",
    "        for c in d.keys():\n",
    "            if len(d[c]) != 10:\n",
    "                continue\n",
    "            print(f\"Graph: {net} training: {g} Copies: {c} data: {len(d[c])}\")\n",
    "            print(round(np.mean(np.array(d[c])),4),round(np.std(np.array(d[c])),4))"
   ]
  },
  {
   "cell_type": "code",
   "execution_count": null,
   "metadata": {},
   "outputs": [],
   "source": []
  },
  {
   "cell_type": "code",
   "execution_count": null,
   "metadata": {},
   "outputs": [],
   "source": []
  }
 ],
 "metadata": {
  "kernelspec": {
   "display_name": "DeepLearning",
   "language": "python",
   "name": "python3"
  },
  "language_info": {
   "codemirror_mode": {
    "name": "ipython",
    "version": 3
   },
   "file_extension": ".py",
   "mimetype": "text/x-python",
   "name": "python",
   "nbconvert_exporter": "python",
   "pygments_lexer": "ipython3",
   "version": "3.7.13"
  },
  "orig_nbformat": 4,
  "vscode": {
   "interpreter": {
    "hash": "836981034a4078c9f81aa3bbf2605e6a2991c189feb0614c725b1b8d5991d7f7"
   }
  }
 },
 "nbformat": 4,
 "nbformat_minor": 2
}
