{
 "cells": [
  {
   "cell_type": "code",
   "execution_count": 14,
   "metadata": {},
   "outputs": [],
   "source": [
    "\n",
    "# We generate two lists a, b\n",
    "\n",
    "import random\n",
    "from scipy.stats import kendalltau,rankdata\n",
    "\n",
    "ind_print = False\n",
    "l = 10000\n",
    "a = [j*2 for j in range(1*l)]\n",
    "b = [j*2 for j in range(2*l,3*l)]\n",
    "assert len(a) == len(b)\n",
    "random.shuffle(a)\n",
    "random.shuffle(b)\n",
    "\n",
    "if ind_print:\n",
    "    print(a)\n",
    "    print(b)"
   ]
  },
  {
   "cell_type": "code",
   "execution_count": 15,
   "metadata": {},
   "outputs": [],
   "source": [
    "# We sort the lists obtaining the custom ranking\n",
    "\n",
    "aa = sorted(range(len(a)),reverse=True,key=lambda k: a[k])\n",
    "bb = sorted(range(len(a)),reverse=True,key=lambda k: b[k])\n",
    "\n",
    "if ind_print:\n",
    "    print(aa)\n",
    "    print(bb)"
   ]
  },
  {
   "cell_type": "code",
   "execution_count": 16,
   "metadata": {},
   "outputs": [],
   "source": [
    "# We use the ranking given by scipy \n",
    "\n",
    "ar = rankdata(a)\n",
    "br = rankdata(b)\n",
    "\n",
    "if ind_print:\n",
    "    print(ar)\n",
    "    print(br)"
   ]
  },
  {
   "cell_type": "code",
   "execution_count": 17,
   "metadata": {},
   "outputs": [
    {
     "name": "stdout",
     "output_type": "stream",
     "text": [
      "KendalltauResult(correlation=0.007371897189718971, pvalue=0.26890354478025913)\n",
      "KendalltauResult(correlation=0.007371897189718971, pvalue=0.26890354478025913)\n",
      "KendalltauResult(correlation=-0.017026142614261424, pvalue=0.01066540792737033)\n"
     ]
    }
   ],
   "source": [
    "print(kendalltau(a,b))\n",
    "print(kendalltau(ar,br))\n",
    "print(kendalltau(aa,bb))"
   ]
  },
  {
   "cell_type": "code",
   "execution_count": null,
   "metadata": {},
   "outputs": [],
   "source": []
  }
 ],
 "metadata": {
  "kernelspec": {
   "display_name": "Python 3",
   "language": "python",
   "name": "python3"
  },
  "language_info": {
   "codemirror_mode": {
    "name": "ipython",
    "version": 3
   },
   "file_extension": ".py",
   "mimetype": "text/x-python",
   "name": "python",
   "nbconvert_exporter": "python",
   "pygments_lexer": "ipython3",
   "version": "3.10.5"
  },
  "orig_nbformat": 4,
  "vscode": {
   "interpreter": {
    "hash": "aee8b7b246df8f9039afb4144a1f6fd8d2ca17a180786b69acc140d282b71a49"
   }
  }
 },
 "nbformat": 4,
 "nbformat_minor": 2
}
