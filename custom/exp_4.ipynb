{
 "cells": [
  {
   "cell_type": "code",
   "execution_count": null,
   "metadata": {},
   "outputs": [],
   "source": [
    " \n",
    "from utils import *\n",
    "from model_bet_varying_layers import *\n",
    "import argparse\n",
    "import pandas as pd\n",
    "\n",
    "results = {'g': [], 'layers':[], 'epoch':[], 'kt':[], 'avg':[]}\n",
    "\n",
    "for gtype in ['SF','ER','GRP']:\n",
    "    for num_layers in range(1,8):\n",
    "\n",
    "        torch.manual_seed(15)\n",
    "        print(gtype)\n",
    "\n",
    "\n",
    "        #data_path = gtype+\"_15_graphs_10000_5000_nodes.pickle\"\n",
    "        data_path = gtype+\"_train_given.pickle\"\n",
    "        #Load training data\n",
    "        print(f\"Loading data...\")\n",
    "        with open(\"./data_splits/train/\"+data_path,\"rb\") as fopen:\n",
    "            list_graph_train,list_n_seq_train,list_num_node_train,bc_mat_train,deg_mat_train = pickle.load(fopen)\n",
    "\n",
    "        data_path = gtype+\"_test_given.pickle\"\n",
    "        #Load test data\n",
    "        with open(\"./data_splits/test/\"+data_path,\"rb\") as fopen:\n",
    "            list_graph_test,list_n_seq_test,list_num_node_test,bc_mat_test,deg_mat_test = pickle.load(fopen)\n",
    "\n",
    "        model_size = bc_mat_train.shape[0]\n",
    "\n",
    "        #Get adjacency matrices from graphs\n",
    "        print(f\"Graphs to adjacency conversion.\")\n",
    "\n",
    "        list_adj_train,list_adj_t_train = graph_to_adj_bet(list_graph_train,list_n_seq_train,list_num_node_train,model_size)\n",
    "        list_adj_test,list_adj_t_test = graph_to_adj_bet(list_graph_test,list_n_seq_test,list_num_node_test,model_size)\n",
    "\n",
    "        #Model parameters\n",
    "        hidden = 20\n",
    "\n",
    "        device = torch.device(\"cuda\" if torch.cuda.is_available() else \"cpu\")\n",
    "\n",
    "        print(f\"GNN_Bet{num_layers}\")\n",
    "        exec(f'model = GNN_Bet{num_layers}(ninput=model_size,nhid=hidden,dropout=0.6)')\n",
    "        model.to(device)\n",
    "\n",
    "        optimizer = torch.optim.Adam(model.parameters(),lr=0.0005)\n",
    "        num_epoch = 15\n",
    "\n",
    "        print(\"Training\")\n",
    "        print(f\"Total Number of epoches: {num_epoch}\")\n",
    "        for e in range(num_epoch):\n",
    "            print(f\"Epoch number: {e+1}/{num_epoch}\")\n",
    "            train(list_adj_train,list_adj_t_train,list_num_node_train,bc_mat_train,model=model,device=device,optimizer=optimizer,size=model_size)\n",
    "\n",
    "            #to check test loss while training\n",
    "            with torch.no_grad():\n",
    "                r = test(list_adj_test,list_adj_t_test,list_num_node_test,bc_mat_test,deg_mat_test,model=model,device=device,size=model_size)\n",
    "            \n",
    "                results['g'].append(gtype)\n",
    "                results['layers'].append(num_layers)\n",
    "                results['epoch'].append(e)\n",
    "                results['kt'].append(r[\"kt\"])\n",
    "                results['avg'].append(r[\"avg\"])\n",
    "\n",
    "df = pd.DataFrame.from_dict(results)\n",
    "df.to_csv(\"output_varying_layers_given.csv\")"
   ]
  }
 ],
 "metadata": {
  "kernelspec": {
   "display_name": "Python 3",
   "language": "python",
   "name": "python3"
  },
  "language_info": {
   "name": "python",
   "version": "3.10.5"
  },
  "orig_nbformat": 4,
  "vscode": {
   "interpreter": {
    "hash": "aee8b7b246df8f9039afb4144a1f6fd8d2ca17a180786b69acc140d282b71a49"
   }
  }
 },
 "nbformat": 4,
 "nbformat_minor": 2
}
