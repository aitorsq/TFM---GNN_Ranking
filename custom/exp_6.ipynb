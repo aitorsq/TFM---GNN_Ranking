{
 "cells": [
  {
   "cell_type": "code",
   "execution_count": null,
   "metadata": {},
   "outputs": [],
   "source": []
  },
  {
   "attachments": {},
   "cell_type": "markdown",
   "metadata": {},
   "source": [
    "## generate no train models"
   ]
  },
  {
   "cell_type": "code",
   "execution_count": null,
   "metadata": {},
   "outputs": [],
   "source": [
    "from model_bet import GNN_Bet\n",
    "import torch\n",
    "\n",
    "for seed in range(100):\n",
    "\n",
    "    for model_size in [10000,100000,300000,900000]:\n",
    "\n",
    "        torch.manual_seed(seed)\n",
    "\n",
    "        saving_path = f\"./models/seeds_analysis/notrained/notrained_{model_size}_size_{seed}_seed\"\n",
    "\n",
    "        #Model parameters\n",
    "        hidden = 20\n",
    "        device = torch.device(\"cuda\" if torch.cuda.is_available() else \"cpu\")\n",
    "        model = GNN_Bet(ninput=model_size,nhid=hidden,dropout=0.6)\n",
    "        model.to(device)\n",
    "        optimizer = torch.optim.Adam(model.parameters(),lr=0.0005)\n",
    "\n",
    "        torch.save(model.state_dict(), saving_path)"
   ]
  },
  {
   "attachments": {},
   "cell_type": "markdown",
   "metadata": {},
   "source": [
    "##  train no train"
   ]
  },
  {
   "cell_type": "code",
   "execution_count": null,
   "metadata": {},
   "outputs": [],
   "source": [
    "\n",
    "from utils import *\n",
    "from model_bet import *\n",
    "import pandas as pd\n",
    "torch.manual_seed(15)\n",
    "import time\n",
    "\n",
    "test_files = {\n",
    "    10000: '1-wiki-Vote_10000_size.pickle',\n",
    "    100000: '2-soc-Epinions_100000_size.pickle',\n",
    "    300000: '3-email-EuAll_300000_size.pickle',\n",
    "    900000: '4-web-Google_900000_size.pickle'}\n",
    "\n",
    "copies = 10\n",
    "nodes = 100\n",
    "\n",
    "R = {}\n",
    "\n",
    "for size in test_files:\n",
    "\n",
    "    test_graph = test_files[size]\n",
    "    train_graph = f'SF_5_graphs_{copies}_copies_{nodes}_nodes_{size}_size.pickle'\n",
    "    R[test_graph] = {\"train_graph\":train_graph,\"size\":size}\n",
    "    R[test_graph]['r'] = {'true': [],'pred': []}\n",
    "\n",
    "    #Load test data\n",
    "    with open(\"./data_splits/test/\"+test_graph,\"rb\") as fopen:\n",
    "        list_graph_test,list_n_seq_test,list_num_node_test,bc_mat_test = pickle.load(fopen)\n",
    "\n",
    "    # Load training data\n",
    "    with open(\"./data_splits/train/\"+train_graph,\"rb\") as fopen:\n",
    "        list_graph_train,list_n_seq_train,list_num_node_train,bc_mat_train = pickle.load(fopen)\n",
    "\n",
    "\n",
    "    #Get adjacency matrices from graphs\n",
    "    list_adj_train,list_adj_t_train = graph_to_adj_bet(list_graph_train,list_n_seq_train,list_num_node_train,size)\n",
    "    list_adj_test,list_adj_t_test = graph_to_adj_bet(list_graph_test,list_n_seq_test,list_num_node_test,size)\n",
    "\n",
    "    for seed in range(50):\n",
    "\n",
    "        currentresult = {'seed':seed}\n",
    "\n",
    "        print(f\"\\nTest: {test_graph}, Size: {size}, Seed: {seed}, Time: {datetime.now().strftime('%d/%m/%Y %H:%M:%S')}\")\n",
    "        model_path = f\"./models/seeds_analysis/notrained/notrained_{size}_size_{seed}_seed\"\n",
    "\n",
    "        #Model parameters\n",
    "        hidden = 20\n",
    "        device = torch.device(\"cuda\" if torch.cuda.is_available() else \"cpu\")\n",
    "        model = GNN_Bet(ninput=size,nhid=hidden,dropout=0.6)\n",
    "        model.load_state_dict(torch.load(model_path))\n",
    "        model.to(device)\n",
    "        optimizer = torch.optim.Adam(model.parameters(),lr=0.0005)\n",
    "\n",
    "        with torch.no_grad():\n",
    "            r = test_onegraph(list_adj_test,list_adj_t_test,list_num_node_test,bc_mat_test,model=model,device=device,size=size)\n",
    "\n",
    "        currentresult['no_train'] = {'pred':r['pred'],'kt':r[\"kt\"]}\n",
    "        print(f'no trained: {r[\"kt\"]}')\n",
    "\n",
    "        if len(R[test_graph]['r']['true']) == 0:\n",
    "            R[test_graph]['r']['true'] = r['true']\n",
    "\n",
    "        train(list_adj_train,list_adj_t_train,list_num_node_train,bc_mat_train,model=model,device=device,optimizer=optimizer,size=size)\n",
    "\n",
    "        with torch.no_grad():\n",
    "            r = test_onegraph(list_adj_test,list_adj_t_test,list_num_node_test,bc_mat_test,model=model,device=device,size=size)\n",
    "        \n",
    "        print(f'trained: {r[\"kt\"]}')\n",
    "\n",
    "        currentresult['train'] = {'pred':r['pred'],'kt':r[\"kt\"]}\n",
    "\n",
    "        R[test_graph]['r']['pred'].append(currentresult)\n",
    "\n",
    "        with open(\"train_no_train_data.pickle\",\"wb\") as fopen:\n",
    "            pickle.dump(R,fopen)"
   ]
  },
  {
   "attachments": {},
   "cell_type": "markdown",
   "metadata": {},
   "source": [
    "## analysis results"
   ]
  },
  {
   "cell_type": "code",
   "execution_count": null,
   "metadata": {},
   "outputs": [],
   "source": [
    "import pickle\n",
    "import matplotlib.pyplot as plt\n",
    "\n",
    "path = 'train_no_train_data.pickle'\n",
    "\n",
    "\n",
    "with open(path,'rb') as f:\n",
    "    data = pickle.load(f)"
   ]
  },
  {
   "cell_type": "code",
   "execution_count": null,
   "metadata": {},
   "outputs": [],
   "source": [
    "# Trained results \n",
    "\n",
    "ys = []\n",
    "for net in data:\n",
    "    v = [k['train']['kt'] for k in data[net]['r']['pred']]\n",
    "    ys.append(v)\n",
    "print(len(ys[0]))\n",
    "plt.violinplot(ys)\n",
    "plt.title(\"Trained models\")\n",
    "plt.xticks([1,2,3,4],['wiki-Vote', 'soc-Epinions' , 'email-EuAll','web-Google'])\n",
    "plt.ylim([-1,1])\n",
    "plt.ylabel(\"KT Score\")\n",
    "plt.show()"
   ]
  },
  {
   "cell_type": "code",
   "execution_count": null,
   "metadata": {},
   "outputs": [],
   "source": [
    "# NO Trained results \n",
    "\n",
    "ys = []\n",
    "for net in data:\n",
    "    v = [k['no_train']['kt'] for k in data[net]['r']['pred']]\n",
    "    ys.append(v)\n",
    "\n",
    "plt.violinplot(ys)\n",
    "plt.title(\"No trained models\")\n",
    "plt.xticks([1,2,3,4],['wiki-Vote', 'soc-Epinions' , 'email-EuAll','web-Google'])\n",
    "plt.ylim([-1,1])\n",
    "plt.ylabel(\"KT Score\")\n",
    "plt.show()"
   ]
  },
  {
   "cell_type": "code",
   "execution_count": null,
   "metadata": {},
   "outputs": [],
   "source": [
    "import matplotlib.pyplot as plt\n",
    "\n",
    "\n",
    "ys = [[1,2,3],[98,90,2]]\n",
    "\n",
    "plt.violinplot(ys,xs)"
   ]
  }
 ],
 "metadata": {
  "kernelspec": {
   "display_name": "Python 3",
   "language": "python",
   "name": "python3"
  },
  "language_info": {
   "name": "python",
   "version": "3.10.5"
  },
  "orig_nbformat": 4,
  "vscode": {
   "interpreter": {
    "hash": "aee8b7b246df8f9039afb4144a1f6fd8d2ca17a180786b69acc140d282b71a49"
   }
  }
 },
 "nbformat": 4,
 "nbformat_minor": 2
}
