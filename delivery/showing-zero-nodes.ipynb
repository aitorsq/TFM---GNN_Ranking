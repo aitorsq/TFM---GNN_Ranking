{
 "cells": [
  {
   "cell_type": "code",
   "execution_count": 5,
   "metadata": {},
   "outputs": [],
   "source": [
    "from functions.utils import *"
   ]
  },
  {
   "cell_type": "code",
   "execution_count": 17,
   "metadata": {},
   "outputs": [],
   "source": [
    "import matplotlib.pyplot as plt\n",
    "\n",
    "def showing_zero_nodes(f):\n",
    "    with open(f,'rb') as f:\n",
    "        data = pickle.load(f)\n",
    "    \n",
    "    results = {}\n",
    "    #for id in range(len(data)):\n",
    "    for id in range(10):\n",
    "        n = 0\n",
    "        \n",
    "        total_nodes = len(list(data[id][1].keys()))\n",
    "        print(\"Nodes: \",total_nodes)\n",
    "        for key in data[id][1]:\n",
    "            if data[id][1][key] == 0:\n",
    "                n += 1\n",
    "        results[id] = {'id': id, 'n': total_nodes, 'zeros': n, 'zeros_percentage': n/total_nodes*100}\n",
    "        print(results[id])\n",
    "    return results\n",
    "    \n",
    "def plotting(p,t):\n",
    "    xs = [p[k]['id'] for k in list(p.keys())]\n",
    "    ys = [p[k]['zeros_percentage'] for k in list(p.keys())]\n",
    "    for i, v in enumerate(ys):\n",
    "        plt.text(xs[i] - 0.3, v + 1.5, str(round(v,2)),fontsize='small')\n",
    "    plt.bar(xs ,ys,color='lightcoral')\n",
    "    plt.ylim(0,100)\n",
    "    plt.title(t)\n",
    "    plt.xlabel(\"Graph id\")\n",
    "    plt.ylabel(\"Percentage of zero nodes\")\n",
    "    plt.xticks(xs,[x+1 for x in xs])\n",
    "    plt.savefig(t,dpi=300)\n",
    "\n",
    "    plt.clf()\n"
   ]
  },
  {
   "cell_type": "code",
   "execution_count": 18,
   "metadata": {},
   "outputs": [
    {
     "name": "stdout",
     "output_type": "stream",
     "text": [
      "Nodes:  0\n"
     ]
    },
    {
     "ename": "ZeroDivisionError",
     "evalue": "division by zero",
     "output_type": "error",
     "traceback": [
      "\u001b[0;31m---------------------------------------------------------------------------\u001b[0m",
      "\u001b[0;31mZeroDivisionError\u001b[0m                         Traceback (most recent call last)",
      "\u001b[0;32m/var/folders/4d/f5lz4rj56ws3v2hlc19c60t80000gn/T/ipykernel_34629/618814333.py\u001b[0m in \u001b[0;36m<module>\u001b[0;34m\u001b[0m\n\u001b[1;32m      5\u001b[0m \u001b[0mf\u001b[0m \u001b[0;34m=\u001b[0m \u001b[0;34mf\"./graphs/{graph_type}_{num_of_graphs}_graphs_{max_nodes}_{min_nodes}_nodes_10_genseed.pickle\"\u001b[0m\u001b[0;34m\u001b[0m\u001b[0;34m\u001b[0m\u001b[0m\n\u001b[1;32m      6\u001b[0m \u001b[0;34m\u001b[0m\u001b[0m\n\u001b[0;32m----> 7\u001b[0;31m \u001b[0mp\u001b[0m \u001b[0;34m=\u001b[0m \u001b[0mshowing_zero_nodes\u001b[0m\u001b[0;34m(\u001b[0m\u001b[0mf\u001b[0m\u001b[0;34m)\u001b[0m\u001b[0;34m\u001b[0m\u001b[0;34m\u001b[0m\u001b[0m\n\u001b[0m\u001b[1;32m      8\u001b[0m \u001b[0mplotting\u001b[0m\u001b[0;34m(\u001b[0m\u001b[0mp\u001b[0m\u001b[0;34m,\u001b[0m\u001b[0;34mf'Betweenness({graph_type})_{max_nodes}'\u001b[0m\u001b[0;34m)\u001b[0m\u001b[0;34m\u001b[0m\u001b[0;34m\u001b[0m\u001b[0m\n",
      "\u001b[0;32m/var/folders/4d/f5lz4rj56ws3v2hlc19c60t80000gn/T/ipykernel_34629/3501780589.py\u001b[0m in \u001b[0;36mshowing_zero_nodes\u001b[0;34m(f)\u001b[0m\n\u001b[1;32m     15\u001b[0m             \u001b[0;32mif\u001b[0m \u001b[0mdata\u001b[0m\u001b[0;34m[\u001b[0m\u001b[0mid\u001b[0m\u001b[0;34m]\u001b[0m\u001b[0;34m[\u001b[0m\u001b[0;36m1\u001b[0m\u001b[0;34m]\u001b[0m\u001b[0;34m[\u001b[0m\u001b[0mkey\u001b[0m\u001b[0;34m]\u001b[0m \u001b[0;34m==\u001b[0m \u001b[0;36m0\u001b[0m\u001b[0;34m:\u001b[0m\u001b[0;34m\u001b[0m\u001b[0;34m\u001b[0m\u001b[0m\n\u001b[1;32m     16\u001b[0m                 \u001b[0mn\u001b[0m \u001b[0;34m+=\u001b[0m \u001b[0;36m1\u001b[0m\u001b[0;34m\u001b[0m\u001b[0;34m\u001b[0m\u001b[0m\n\u001b[0;32m---> 17\u001b[0;31m         \u001b[0mresults\u001b[0m\u001b[0;34m[\u001b[0m\u001b[0mid\u001b[0m\u001b[0;34m]\u001b[0m \u001b[0;34m=\u001b[0m \u001b[0;34m{\u001b[0m\u001b[0;34m'id'\u001b[0m\u001b[0;34m:\u001b[0m \u001b[0mid\u001b[0m\u001b[0;34m,\u001b[0m \u001b[0;34m'n'\u001b[0m\u001b[0;34m:\u001b[0m \u001b[0mtotal_nodes\u001b[0m\u001b[0;34m,\u001b[0m \u001b[0;34m'zeros'\u001b[0m\u001b[0;34m:\u001b[0m \u001b[0mn\u001b[0m\u001b[0;34m,\u001b[0m \u001b[0;34m'zeros_percentage'\u001b[0m\u001b[0;34m:\u001b[0m \u001b[0mn\u001b[0m\u001b[0;34m/\u001b[0m\u001b[0mtotal_nodes\u001b[0m\u001b[0;34m*\u001b[0m\u001b[0;36m100\u001b[0m\u001b[0;34m}\u001b[0m\u001b[0;34m\u001b[0m\u001b[0;34m\u001b[0m\u001b[0m\n\u001b[0m\u001b[1;32m     18\u001b[0m         \u001b[0mprint\u001b[0m\u001b[0;34m(\u001b[0m\u001b[0mresults\u001b[0m\u001b[0;34m[\u001b[0m\u001b[0mid\u001b[0m\u001b[0;34m]\u001b[0m\u001b[0;34m)\u001b[0m\u001b[0;34m\u001b[0m\u001b[0;34m\u001b[0m\u001b[0m\n\u001b[1;32m     19\u001b[0m     \u001b[0;32mreturn\u001b[0m \u001b[0mresults\u001b[0m\u001b[0;34m\u001b[0m\u001b[0;34m\u001b[0m\u001b[0m\n",
      "\u001b[0;31mZeroDivisionError\u001b[0m: division by zero"
     ]
    }
   ],
   "source": [
    "graph_type = 'ER'\n",
    "num_of_graphs =  15\n",
    "max_nodes = 10\n",
    "min_nodes = 5\n",
    "f = f\"./graphs/{graph_type}_{num_of_graphs}_graphs_{max_nodes}_{min_nodes}_nodes_10_genseed.pickle\"\n",
    "\n",
    "p = showing_zero_nodes(f)\n",
    "plotting(p,f'Betweenness({graph_type})_{max_nodes}')"
   ]
  },
  {
   "cell_type": "code",
   "execution_count": 10,
   "metadata": {},
   "outputs": [
    {
     "name": "stdout",
     "output_type": "stream",
     "text": [
      "{'id': 0, 'n': 8999, 'zeros': 7835, 'zeros_percentage': 87.0652294699411}\n",
      "{'id': 1, 'n': 8647, 'zeros': 7607, 'zeros_percentage': 87.97270729732855}\n",
      "{'id': 2, 'n': 7174, 'zeros': 6231, 'zeros_percentage': 86.85531084471704}\n",
      "{'id': 3, 'n': 7335, 'zeros': 6415, 'zeros_percentage': 87.4573960463531}\n",
      "{'id': 4, 'n': 8594, 'zeros': 7503, 'zeros_percentage': 87.3050965790086}\n",
      "{'id': 5, 'n': 9408, 'zeros': 8140, 'zeros_percentage': 86.52210884353741}\n",
      "{'id': 6, 'n': 7853, 'zeros': 6835, 'zeros_percentage': 87.03680122246276}\n",
      "{'id': 7, 'n': 5778, 'zeros': 5024, 'zeros_percentage': 86.95050190377293}\n",
      "{'id': 8, 'n': 6145, 'zeros': 5389, 'zeros_percentage': 87.6973148901546}\n",
      "{'id': 9, 'n': 5218, 'zeros': 4587, 'zeros_percentage': 87.9072441548486}\n"
     ]
    },
    {
     "data": {
      "text/plain": [
       "<Figure size 432x288 with 0 Axes>"
      ]
     },
     "metadata": {},
     "output_type": "display_data"
    }
   ],
   "source": [
    "graph_type = 'SF'\n",
    "num_of_graphs =  20\n",
    "max_nodes = 10000\n",
    "min_nodes = 5000\n",
    "f = f\"./graphs/{graph_type}_{num_of_graphs}_graphs_{max_nodes}_{min_nodes}_nodes.pickle\"\n",
    "\n",
    "p = showing_zero_nodes(f)\n",
    "plotting(p,f'Betweenness({graph_type})')"
   ]
  },
  {
   "cell_type": "code",
   "execution_count": 9,
   "metadata": {},
   "outputs": [
    {
     "name": "stdout",
     "output_type": "stream",
     "text": [
      "{'id': 0, 'n': 8944, 'zeros': 0, 'zeros_percentage': 0.0}\n",
      "{'id': 1, 'n': 7794, 'zeros': 523, 'zeros_percentage': 6.710289966641006}\n",
      "{'id': 2, 'n': 7504, 'zeros': 0, 'zeros_percentage': 0.0}\n",
      "{'id': 3, 'n': 5911, 'zeros': 9, 'zeros_percentage': 0.15225850109964473}\n",
      "{'id': 4, 'n': 8031, 'zeros': 1183, 'zeros_percentage': 14.730419623957166}\n",
      "{'id': 5, 'n': 5073, 'zeros': 10, 'zeros_percentage': 0.19712201852946973}\n",
      "{'id': 6, 'n': 6728, 'zeros': 43, 'zeros_percentage': 0.6391200951248514}\n",
      "{'id': 7, 'n': 6630, 'zeros': 3, 'zeros_percentage': 0.04524886877828054}\n",
      "{'id': 8, 'n': 9299, 'zeros': 0, 'zeros_percentage': 0.0}\n",
      "{'id': 9, 'n': 8432, 'zeros': 0, 'zeros_percentage': 0.0}\n"
     ]
    },
    {
     "data": {
      "text/plain": [
       "<Figure size 432x288 with 0 Axes>"
      ]
     },
     "metadata": {},
     "output_type": "display_data"
    }
   ],
   "source": [
    "graph_type = 'GRP'\n",
    "num_of_graphs =  20\n",
    "max_nodes = 10000\n",
    "min_nodes = 5000\n",
    "f = f\"./graphs/{graph_type}_{num_of_graphs}_graphs_{max_nodes}_{min_nodes}_nodes.pickle\"\n",
    "\n",
    "p = showing_zero_nodes(f)\n",
    "plotting(p,f'Betweenness({graph_type})')"
   ]
  },
  {
   "cell_type": "code",
   "execution_count": null,
   "metadata": {},
   "outputs": [],
   "source": []
  }
 ],
 "metadata": {
  "kernelspec": {
   "display_name": "DeepLearning",
   "language": "python",
   "name": "python3"
  },
  "language_info": {
   "codemirror_mode": {
    "name": "ipython",
    "version": 3
   },
   "file_extension": ".py",
   "mimetype": "text/x-python",
   "name": "python",
   "nbconvert_exporter": "python",
   "pygments_lexer": "ipython3",
   "version": "3.7.13"
  },
  "orig_nbformat": 4,
  "vscode": {
   "interpreter": {
    "hash": "836981034a4078c9f81aa3bbf2605e6a2991c189feb0614c725b1b8d5991d7f7"
   }
  }
 },
 "nbformat": 4,
 "nbformat_minor": 2
}
